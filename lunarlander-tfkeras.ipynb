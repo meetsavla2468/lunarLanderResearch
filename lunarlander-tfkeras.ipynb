{
 "cells": [
  {
   "cell_type": "code",
   "execution_count": null,
   "id": "95eafcc0-601b-4609-bed4-567e4653abdd",
   "metadata": {},
   "outputs": [],
   "source": [
    "! pip install -r requirements.txt"
   ]
  },
  {
   "cell_type": "code",
   "execution_count": null,
   "id": "9184d259-bfe0-4ad8-a43e-8bce502059c8",
   "metadata": {
    "execution": {
     "iopub.execute_input": "2023-02-07T20:59:20.824114Z",
     "iopub.status.busy": "2023-02-07T20:59:20.823548Z",
     "iopub.status.idle": "2023-02-07T21:39:22.890753Z",
     "shell.execute_reply": "2023-02-07T21:39:22.890192Z",
     "shell.execute_reply.started": "2023-02-07T20:59:20.824093Z"
    },
    "tags": []
   },
   "outputs": [],
   "source": [
    "import gymnasium as gym\n",
    "import os\n",
    "import matplotlib.pyplot as plt\n",
    "import json # for dumping debug data\n",
    "import time # for benchmarking \n",
    "from ddqn_tfkeras import SingleQAgent, DoubleQAgent\n",
    "import numpy as np\n",
    "import random\n",
    "\n",
    "LEARN_EVERY = 4\n",
    "def train_agent(atype='double', n_episodes=2000, load_latest_model=False):\n",
    "    print(\"Training a {} DQN TF-Keras agent on {} episodes. Pretrained model = {}\".format(atype,n_episodes,load_latest_model))\n",
    "    env = gym.make(\"LunarLander-v2\")\n",
    "    if atype == 'double':\n",
    "        agent = DoubleQAgent(gamma=0.99, epsilon=1.0, epsilon_dec=0.995, lr=0.001, mem_size=2000000, batch_size=128, epsilon_end=0.01)\n",
    "    elif atype == 'single':\n",
    "        agent = SingleQAgent(gamma=0.99, epsilon=0.01, epsilon_dec=0.996, lr=0.001, mem_size=2000000, batch_size=128, epsilon_end=0.01)\n",
    "    \n",
    "    if load_latest_model:\n",
    "        agent.load_saved_model('{}_dqn_tfk_model.h5'.format(atype))\n",
    "        print('Loaded most recent {} model.'.format(atype))\n",
    "        \n",
    "    scores = []\n",
    "    eps_history = []\n",
    "    start = time.time()\n",
    "    for i in range(n_episodes):\n",
    "        terminated = False\n",
    "        truncated = False\n",
    "        score = 0\n",
    "        \n",
    "        steps = 0\n",
    "        state = env.reset()[0]\n",
    "        while not (terminated or truncated):\n",
    "            action = agent.choose_action(state)\n",
    "            new_state, reward, terminated, truncated, info = env.step(action)\n",
    "            agent.save(state, action, reward, new_state, terminated)\n",
    "            state = new_state\n",
    "            if steps > 0 and steps % LEARN_EVERY == 0:\n",
    "                agent.learn()\n",
    "            steps += 1\n",
    "            score += reward\n",
    "        eps_history.append(agent.epsilon)\n",
    "        scores.append(score)\n",
    "        avg_score = np.mean(scores[max(0, i-100):(i+1)])\n",
    "\n",
    "        if (i+1) % 5 == 0 and i > 0:\n",
    "            # Report expected time to finish the training\n",
    "            print('Episode {} in {:.2f} min. Expected total time for {} episodes: {:.0f} min. [{:.2f}/{:.2f}]'.format((i+1), \n",
    "                                                                                                                      (time.time() - start)/60, \n",
    "                                                                                                                      n_episodes, \n",
    "                                                                                                                      (((time.time() - start)/i)*n_episodes)/60, \n",
    "                                                                                                                      score, \n",
    "                                                                                                                      avg_score))\n",
    "\n",
    "        if (i+1) % 25 == 0 and i > 0:\n",
    "            # Save the model every N-th step just in case\n",
    "            agent.save_model('{}_dqn_tfk_model.h5'.format(atype))\n",
    "            with open(\"{}_dqn_tfk_model_scores_{}.json\".format(atype,int(time.time())), \"w\") as fp:\n",
    "                json.dump(scores, fp)\n",
    "            with open(\"{}_dqn_tfk_model_history_{}.json\".format(atype, int(time.time())), \"w\") as fp:\n",
    "                json.dump(eps_history, fp)\n",
    "\n",
    "    return agent\n",
    "    \n",
    "train_agent(atype='single', n_episodes=76, load_latest_model=True)"
   ]
  },
  {
   "cell_type": "code",
   "execution_count": null,
   "id": "e596f509-6b4a-4ef5-b8f6-aae925b3d279",
   "metadata": {
    "execution": {
     "iopub.execute_input": "2023-02-05T16:49:01.643544Z",
     "iopub.status.busy": "2023-02-05T16:49:01.642990Z",
     "iopub.status.idle": "2023-02-05T16:49:16.458050Z",
     "shell.execute_reply": "2023-02-05T16:49:16.457238Z",
     "shell.execute_reply.started": "2023-02-05T16:49:01.643524Z"
    },
    "tags": []
   },
   "outputs": [],
   "source": [
    "# Visualize the model\n",
    "import gymnasium as gym\n",
    "import os\n",
    "import matplotlib.pyplot as plt\n",
    "os.environ[\"SDL_VIDEODRIVER\"] = \"dummy\"\n",
    "from IPython.display import clear_output\n",
    "\n",
    "def visualize_model(name, atype='single'):\n",
    "    env = gym.make(\"LunarLander-v2\", render_mode=\"rgb_array\")\n",
    "    agent = SingleQAgent(gamma=0.99, epsilon=0.0, lr=0.0005, mem_size=1000000, batch_size=64, epsilon_end=0.01)\n",
    "    agent.load_saved_model(name)\n",
    "    state, info = env.reset(seed=42)\n",
    "    for _ in range(5):\n",
    "        terminated = False\n",
    "        truncated = False\n",
    "        while not (terminated or truncated):\n",
    "            action = agent.choose_action(state)\n",
    "            new_state, reward, terminated, truncated, info = env.step(action)\n",
    "            if truncated:\n",
    "                print(\"Truncated game at {}\", steps)\n",
    "            state = new_state\n",
    "            clear_output(wait=True)\n",
    "            plt.imshow( env.render() )\n",
    "            plt.show()\n",
    "        state = env.reset()[0]\n",
    "    env.close()\n",
    "\n",
    "visualize_model('double_dqn_model_epoch_50_fc256xfc256.h5', atype='double')"
   ]
  }
 ],
 "metadata": {
  "kernelspec": {
   "display_name": "Python 3 (ipykernel)",
   "language": "python",
   "name": "python3"
  },
  "language_info": {
   "codemirror_mode": {
    "name": "ipython",
    "version": 3
   },
   "file_extension": ".py",
   "mimetype": "text/x-python",
   "name": "python",
   "nbconvert_exporter": "python",
   "pygments_lexer": "ipython3",
   "version": "3.9.0"
  }
 },
 "nbformat": 4,
 "nbformat_minor": 5
}
